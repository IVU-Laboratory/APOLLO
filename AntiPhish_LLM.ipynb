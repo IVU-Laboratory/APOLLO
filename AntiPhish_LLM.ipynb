{
 "nbformat": 4,
 "nbformat_minor": 0,
 "metadata": {
  "colab": {
   "provenance": []
  },
  "kernelspec": {
   "name": "python3",
   "display_name": "Python 3"
  },
  "language_info": {
   "name": "python"
  }
 },
 "cells": [
  {
   "cell_type": "markdown",
   "source": [
    "# AntiPhish-LLM\n",
    "\n",
    "This is a demo of AntiPhish-LLM, a tool that leverages OpenAI's GPT models for the automatic classification of phishing emails and generation of warning messages."
   ],
   "metadata": {
    "id": "ml9JrxW5xrZ5"
   }
  },
  {
   "cell_type": "markdown",
   "source": [
    "# Setup\n",
    "\n",
    "Firstly, we install the needed python libraries."
   ],
   "metadata": {
    "id": "GIIAa4RCDLa4"
   }
  },
  {
   "cell_type": "code",
   "execution_count": null,
   "metadata": {
    "id": "YlsMoDEYUoPo"
   },
   "outputs": [],
   "source": [
    "!pip install scipy\n",
    "!pip install tenacity\n",
    "!pip install cohere\n",
    "!pip install tiktoken\n",
    "!pip install openai\n",
    "!pip install requests\n",
    "!pip install evals\n",
    "!pip install beautifulsoup4\n",
    "!pip install dnspython"
   ]
  },
  {
   "metadata": {},
   "cell_type": "markdown",
   "source": "Then, be sure to fill the **.env** file with the keys for the third-party services."
  },
  {
   "cell_type": "markdown",
   "source": [
    "# Email Preprocessing\n",
    "\n",
    "Let's import the Preprocessor module for the preprocessing of the emails.\n",
    "\n",
    "We pre-process the email following the approach used in [K. Misra and J. T. Rayz, \"LMs go Phishing: Adapting Pre-trained Language Models to Detect Phishing Emails,\" 2022 IEEE/WIC/ACM International Joint Conference on Web Intelligence and Intelligent Agent Technology (WI-IAT), Niagara Falls, ON, Canada, 2022, pp. 135-142, doi: 10.1109/WI-IAT55865.2022.00028.](https://ieeexplore.ieee.org/stamp/stamp.jsp?tp=&arnumber=10101955)"
   ],
   "metadata": {
    "id": "8sno3lHIxTXC"
   }
  },
  {
   "cell_type": "code",
   "source": "import preprocessor",
   "metadata": {
    "id": "hXW3jwdVvjwI"
   },
   "execution_count": null,
   "outputs": []
  },
  {
   "cell_type": "markdown",
   "source": [
    "# URL Enricher\n",
    "\n",
    "We define the functions to collect online information about the URL(s) in the email."
   ],
   "metadata": {
    "id": "8-Gko4aEDeRG"
   }
  },
  {
   "cell_type": "code",
   "source": "import url_enricher",
   "metadata": {
    "id": "Zgj1v-F-lvy_"
   },
   "execution_count": null,
   "outputs": []
  },
  {
   "cell_type": "markdown",
   "source": [
    "Let's finally open an email and preprocess it.\n",
    "For now, we gather only URL info for the first URL in the email"
   ],
   "metadata": {
    "id": "z3QWDTaQx2If"
   }
  },
  {
   "cell_type": "code",
   "source": [
    "from dotenv import load_dotenv\n",
    "load_dotenv()\n",
    "\n",
    "# Open and preprocess an email\n",
    "email_filename = \"email_name.eml\" # ENTER THE EMAIL FILE NAME HERE\n",
    "with open(email_filename, \"rb\") as email_byes:\n",
    "    mail = email_byes.read()\n",
    "    mail = preprocessor.preprocess_email(mail)\n",
    "    # Print the extracted subject, header, body, and URLs\n",
    "    \"\"\"print(\"Subject:\", mail[\"subject\"])\n",
    "    print(\"Headers:\")\n",
    "    print(mail[\"headers\"])\n",
    "    print(\"Body:\")\n",
    "    print(mail[\"body\"])\n",
    "    print(\"URLS:\")\n",
    "    print(mail[\"urls\"])\"\"\"\n",
    "    # Gather additional information about URLs in the email\n",
    "if len(mail[\"urls\"]) > 0:\n",
    "    # Call remote API to gather online URL information\n",
    "    url_to_analyze = mail[\"urls\"][0]  # for now, we take the first URL\n",
    "    url_info = url_enricher.get_url_info(url_to_analyze)\n",
    "else:\n",
    "    url_info = None"
   ],
   "metadata": {
    "id": "7h3TUlYaluO_"
   },
   "execution_count": null,
   "outputs": []
  },
  {
   "cell_type": "markdown",
   "source": "# Classify the email with GPT-4o (LLM-Prompter)",
   "metadata": {
    "id": "gRQ7WP6rCwNZ"
   }
  },
  {
   "cell_type": "markdown",
   "source": [
    "Once we have our preprocessed email and URL information, we call GPT-4o for the classification.\n",
    "\n",
    "We already did manual prompt engineering and came up with the following prompt:\n",
    "\n",
    "\n",
    "```\n",
    "You are a cybersecurity and human-computer interaction expert that has the goal to detect\n",
    "if an email is legitimate or phishing and help the user understand why a specific email is dangerous (or genuine), in order\n",
    "to make more informed decisions.\n",
    "The user will submit the email (headers + subject + body) optionally accompanied by information of the URLs in the email as:\n",
    "    - server location;\n",
    "    - VirusTotal scans reporting the number of scanners that detected the URL as harmless.\n",
    "\n",
    "Your goal is to output a JSON object containing:\n",
    "- The classification result (label).\n",
    "- The probability in percentage of the email being phishing (0%=email is surely legitimate, 100%=email is surely phishing) (phishing_probability).\n",
    "- A list of persuasion principles that were applied by the alliged attacker (if any); each persuasion principle should be an object containing:\n",
    "    the persuasion principle name (authority, scarcity, etc.),\n",
    "    the part of the email that makes you say that persuasion principle is being applied;\n",
    "    a brief rationale for each principle.\n",
    "- A list of 3 to 5 features that could indicate the danger (or legitimacy) of the email; the explanations must be understandable by users with no cybersecurity or computers expertise.\n",
    "\n",
    "\n",
    "Desired format:\n",
    "label: <phishing/legit>\n",
    "phishing_probability: <0-100%>\n",
    "persuasion_principles: [array of persuation principles, each having: {{name, specific sentences, rationale}} ]\n",
    "explanation: [array of 3-5 features explained]\n",
    "\n",
    "```\n",
    "\n",
    "Let's modify it a bit and set the code for the API call using Chat Completions ([source](https://platform.openai.com/docs/guides/gpt/chat-completions-api)).\n",
    "\n",
    "## Generating a warning message with explanation\n",
    "\n",
    "Now we have a classification for an email that also carries a lot of\n",
    "information regarding the rationale for the classification and the persuasion principles that might have been used.\n",
    "\n",
    "Nonetheless, we want to have an explanation message that would be easy to understand also by lay users. Therefore, we create another prompt to further refine this longer explanation in an effective warning message.\n",
    "\n",
    "We created this prompt:\n",
    "\n",
    "\n",
    "\n",
    "```\n",
    "Now take the most relevant feature among the ones in your explanations and construct a brief explanation message (max 50 words) directed to naive users (with no knowledge of cybersecurity) that will follow this structure:`\n",
    "    1. description of the most relevant phishing feature\n",
    "    2. explanation of the hazard\n",
    "    3. consequences of a successful phishing attack\n",
    "For example, a message that explains that a URL in the email (PHISHING_URL) is imitating another legitimate one (SAFE_URL), would be:\n",
    "\"The target URL [PHISHING_URL] is an imitation of the original one, [SAFE_URL]. This site might be intended to take you to a different place. You might be disclosing private information.”.\n",
    "Another example of explanation about the domain of a website being suspiciously young would be:\n",
    "\"This website is very young (created [N] days ago). Fraudulent websites have a similar age. There is a potential risk of being cheated if you proceed.\"\n",
    "Another example of explaining that the email is suspicious because a domain linked in the email is hosted in a country with bad reputation would be:\n",
    "\"The host of the target website is in [COUNTRY], which is where most attacks originate. Sharing your private information here is risky.\"\n",
    "\n",
    "Desired format:\n",
    "[description of the feature]. [hazard explanation]. [consequences of a successful attack].\n",
    "```\n"
   ],
   "metadata": {
    "id": "KDu6JIRHtZeg"
   }
  },
  {
   "cell_type": "code",
   "source": [
    "import llm_prompter\n",
    "\n",
    "MODEL = \"gpt-4o\""
   ],
   "metadata": {
    "id": "RmVHAoiq_x7G"
   },
   "execution_count": null,
   "outputs": []
  },
  {
   "cell_type": "markdown",
   "source": "Let's generate an email classification + explanation by using GPT-4o. By changing the parameter _model_ of the function, we can use another GPT model, e.g., GPT-3.5 turbo (see [OpenAI docs](url[https://platform.openai.com/docs/models])).",
   "metadata": {
    "id": "_l76kI9gEq8R"
   }
  },
  {
   "cell_type": "code",
   "source": [
    "# Call GPT-4o for email phishing classification (automatic feature detection)\n",
    "classification_response, warning_msg = llm_prompter.classify_email(mail, url_info, model=MODEL)\n",
    "\n",
    "print (classification_response)\n",
    "print (warning_msg)"
   ],
   "metadata": {
    "id": "LGr0jWFGEl4T"
   },
   "execution_count": null,
   "outputs": []
  },
  {
   "cell_type": "markdown",
   "source": [
    "## Generate explanations for specific email by priming on the feature to explain"
   ],
   "metadata": {
    "id": "ddI7FoJC3ICV"
   }
  },
  {
   "cell_type": "code",
   "source": [
    "# Young domain\n",
    "# Open and preprocess the email\n",
    "email_filename = \"phishing_young_domain.eml\"\n",
    "with open(email_filename, \"rb\") as email_byes:\n",
    "  mail = email_byes.read()\n",
    "  mail = preprocessor.preprocess_email(mail)\n",
    "\n",
    "# We do not use URL information\n",
    "\n",
    "# Call GPT for email phishing classification (priming the model about the feature to explain)\n",
    "feature_to_explain = {\n",
    "    \"name\" : 'Young domain',\n",
    "    \"description\" : 'it contains an URL that leads to a domain that is very new'\n",
    "}\n",
    "classification_response, warning_msg = llm_prompter.classify_email(mail, feature_to_explain=feature_to_explain, url_info=None, model=MODEL)\n",
    "\n",
    "print (classification_response)\n",
    "print (warning_msg)"
   ],
   "metadata": {
    "colab": {
     "base_uri": "https://localhost:8080/"
    },
    "id": "_4tXyN9lu3iM",
    "outputId": "d8da12a6-088f-4eb8-9d47-fdfec050544f"
   },
   "execution_count": null,
   "outputs": [
    {
     "output_type": "stream",
     "name": "stdout",
     "text": [
      "{'label': 'phishing', 'phishing_probability': '95%', 'persuasion_principles': [{'name': 'Authority', 'specific_sentences': 'BRT Pacchetto in attesa', 'rationale': 'The email impersonates an authoritative courier service to create a sense of legitimacy and urgency.'}, {'name': 'Scarcity', 'specific_sentences': 'Hai (1) pacco in attesa di consegna.', 'rationale': 'The message suggests that there is a limited time to act on the delivery, which can pressure the recipient into taking hasty actions without proper verification.'}, {'name': 'Consistency', 'specific_sentences': 'Pianifica la tua consegna e iscriviti ai nostri avvisi di calendario per evitare che ciò accada di nuovo!!', 'rationale': 'The email prompts the user to take immediate action to resolve an issue, playing on the desire to maintain consistency and follow through with commitments, such as receiving a package.'}], 'explanation': [\"The sender's email address ('jessicahwhite47879@gmail.com') does not match the official email domain of a legitimate courier service, which is a common tactic used by phishers to deceive recipients.\", 'The email contains multiple grammatical and formatting errors, which are not expected in official communication from a reputable company.', 'The email creates a sense of urgency by claiming that a package is waiting for delivery, which is a tactic often used in phishing to prompt quick action without careful consideration.', \"The email includes suspicious links with unrelated URLs ('https://lnkd.in' and 'https://www.truilsjq.jbn'), which are likely not associated with the claimed courier service and could potentially lead to malicious websites.\", 'The email lacks personalization, using a generic greeting and not including specific details about the recipient or the package, which is atypical for legitimate parcel delivery notifications.', 'The email requests the recipient to confirm or take action by clicking on a link, which is a common phishing technique to lure individuals into providing sensitive information or downloading malware.']}\n",
      "The URL in the email leads to a very new domain. New domains are often used by scammers for fraud. You could be tricked into giving away personal details or downloading harmful software.\n"
     ]
    }
   ]
  },
  {
   "cell_type": "code",
   "source": [
    "# IP Address\n",
    "# Open and preprocess the email\n",
    "email_filename = \"phishing_IP.eml\"\n",
    "with open(email_filename, \"rb\") as email_byes:\n",
    "  mail = email_byes.read()\n",
    "  mail = preprocessor.preprocess_email(mail)\n",
    "# Call GPT for email phishing classification (priming the model about the feature to explain)\n",
    "feature_to_explain = {\n",
    "    \"name\" : \"URL is IP address\",\n",
    "    \"description\" : \"it contains an URL that is an IP address\"\n",
    "}\n",
    "classification_response, warning_msg = llm_prompter.classify_email(mail, feature_to_explain=feature_to_explain, url_info=None, model=MODEL)\n",
    "\n",
    "print (classification_response)\n",
    "print (warning_msg)"
   ],
   "metadata": {
    "id": "mqdE6XNmV_U4"
   },
   "execution_count": null,
   "outputs": []
  },
  {
   "cell_type": "code",
   "source": [
    "# TLD mispositioned\n",
    "# Open and preprocess the email\n",
    "email_filename = \"phishing_TLD_mispositioned.eml\"\n",
    "with open(email_filename, \"rb\") as email_byes:\n",
    "  mail = email_byes.read()\n",
    "  mail = preprocessor.preprocess_email(mail)\n",
    "# Call GPT for email phishing classification (priming the model about the feature to explain)\n",
    "feature_to_explain = {\n",
    "    \"name\" : \"Top-Level Domain mispositioned\",\n",
    "    \"description\" : \"it contains an URL with a top-level domain (.com) found as a subdomain\"\n",
    "}\n",
    "classification_response, warning_msg = llm_prompter.classify_email(mail, feature_to_explain=feature_to_explain, url_info=None, model=MODEL)\n",
    "\n",
    "print (classification_response)\n",
    "print (warning_msg)"
   ],
   "metadata": {
    "id": "812Nfu5nqYhg"
   },
   "execution_count": null,
   "outputs": []
  },
  {
   "cell_type": "code",
   "source": [
    "# Link mismatch\n",
    "# Open and preprocess the email\n",
    "email_filename = \"phishing_link_mismatch.eml\"\n",
    "with open(email_filename, \"rb\") as email_byes:\n",
    "  mail = email_byes.read()\n",
    "  mail = preprocessor.preprocess_email(mail)\n",
    "# Call GPT for email phishing classification (priming the model about the feature to explain)\n",
    "feature_to_explain = {\n",
    "    \"name\" : \"Link mismatch\",\n",
    "    \"description\" : \"it contains a displayed link that is different from the actual pointed URL\"\n",
    "}\n",
    "classification_response, warning_msg = llm_prompter.classify_email(mail, feature_to_explain=feature_to_explain, url_info=None, model=MODEL)\n",
    "\n",
    "print (classification_response)\n",
    "print (warning_msg)"
   ],
   "metadata": {
    "id": "xdTIfIh4stD_"
   },
   "execution_count": null,
   "outputs": []
  }
 ]
}
