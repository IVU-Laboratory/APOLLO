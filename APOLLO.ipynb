{
 "nbformat": 4,
 "nbformat_minor": 0,
 "metadata": {
  "colab": {
   "provenance": []
  },
  "kernelspec": {
   "name": "python3",
   "display_name": "Python 3 (ipykernel)",
   "language": "python"
  },
  "language_info": {
   "name": "python"
  }
 },
 "cells": [
  {
   "cell_type": "markdown",
   "source": [
    "# Advanced Phishing preventiOn with Large Language model-based Oracle (APOLLO) \n",
    "\n",
    "This is a demo of APOLLO, a tool that leverages OpenAI's GPT models for the automatic classification of phishing emails and generation of warning messages."
   ],
   "metadata": {
    "id": "ml9JrxW5xrZ5"
   }
  },
  {
   "cell_type": "markdown",
   "source": [
    "# Setup\n",
    "\n",
    "Firstly, we install the needed python libraries."
   ],
   "metadata": {
    "id": "GIIAa4RCDLa4"
   }
  },
  {
   "cell_type": "code",
   "metadata": {
    "id": "YlsMoDEYUoPo"
   },
   "source": [
    "!pip install scipy\n",
    "!pip install tenacity\n",
    "!pip install cohere\n",
    "!pip install tiktoken\n",
    "!pip install openai\n",
    "!pip install requests\n",
    "!pip install evals\n",
    "!pip install beautifulsoup4\n",
    "!pip install dnspython\n",
    "!pip install requests"
   ],
   "outputs": [],
   "execution_count": null
  },
  {
   "metadata": {},
   "cell_type": "markdown",
   "source": "Then, be sure to fill the **.env** file with the keys for the third-party services."
  },
  {
   "metadata": {
    "ExecuteTime": {
     "end_time": "2024-09-11T13:12:43.828192Z",
     "start_time": "2024-09-11T13:12:43.816180Z"
    }
   },
   "cell_type": "code",
   "source": [
    "from dotenv import load_dotenv\n",
    "\n",
    "load_dotenv()"
   ],
   "outputs": [
    {
     "data": {
      "text/plain": [
       "True"
      ]
     },
     "execution_count": 4,
     "metadata": {},
     "output_type": "execute_result"
    }
   ],
   "execution_count": 4
  },
  {
   "cell_type": "markdown",
   "source": [
    "# Email Preprocessing\n",
    "\n",
    "Let's import the Preprocessor module for the preprocessing of the emails.\n",
    "\n",
    "We pre-process the email following the approach used in [K. Misra and J. T. Rayz, \"LMs go Phishing: Adapting Pre-trained Language Models to Detect Phishing Emails,\" 2022 IEEE/WIC/ACM International Joint Conference on Web Intelligence and Intelligent Agent Technology (WI-IAT), Niagara Falls, ON, Canada, 2022, pp. 135-142, doi: 10.1109/WI-IAT55865.2022.00028.](https://ieeexplore.ieee.org/stamp/stamp.jsp?tp=&arnumber=10101955)"
   ],
   "metadata": {
    "id": "8sno3lHIxTXC"
   }
  },
  {
   "cell_type": "code",
   "source": "import preprocessor",
   "metadata": {
    "id": "hXW3jwdVvjwI",
    "ExecuteTime": {
     "end_time": "2024-09-11T13:12:43.837195Z",
     "start_time": "2024-09-11T13:12:43.832188Z"
    }
   },
   "outputs": [],
   "execution_count": 5
  },
  {
   "cell_type": "markdown",
   "source": [
    "# URL Enricher\n",
    "\n",
    "Let's import the URL enricher module, which collects online information about the URL(s) in the email."
   ],
   "metadata": {
    "id": "8-Gko4aEDeRG"
   }
  },
  {
   "cell_type": "code",
   "source": "import url_enricher",
   "metadata": {
    "id": "Zgj1v-F-lvy_",
    "ExecuteTime": {
     "end_time": "2024-09-11T13:12:43.844690Z",
     "start_time": "2024-09-11T13:12:43.839192Z"
    }
   },
   "outputs": [],
   "execution_count": 6
  },
  {
   "cell_type": "markdown",
   "source": [
    "Let's finally open an email and preprocess it.\n",
    "For now, we gather only URL info for the first URL in the email"
   ],
   "metadata": {
    "id": "z3QWDTaQx2If"
   }
  },
  {
   "cell_type": "code",
   "source": [
    "# Open and preprocess an email\n",
    "email_filename = \"emails/email.eml\" # ENTER THE EMAIL FILE NAME HERE\n",
    "with open(email_filename, \"rb\") as email_byes:\n",
    "    mail = email_byes.read()\n",
    "    mail = preprocessor.preprocess_email(mail)\n",
    "    # Print the extracted subject, header, body, and URLs\n",
    "    \"\"\"print(\"Subject:\", mail[\"subject\"])\n",
    "    print(\"Headers:\")\n",
    "    print(mail[\"headers\"])\n",
    "    print(\"Body:\")\n",
    "    print(mail[\"body\"])\n",
    "    print(\"URLS:\")\n",
    "    print(mail[\"urls\"])\"\"\"\n",
    "    # Gather additional information about URLs in the email\n",
    "if len(mail[\"urls\"]) > 0:\n",
    "    # Call remote API to gather online URL information\n",
    "    url_to_analyze = mail[\"urls\"][0]  # for now, we take the first URL\n",
    "    url_info = url_enricher.get_url_info(url_to_analyze)\n",
    "else:\n",
    "    url_info = None"
   ],
   "metadata": {
    "id": "7h3TUlYaluO_",
    "ExecuteTime": {
     "end_time": "2024-09-10T08:51:14.809867Z",
     "start_time": "2024-09-10T08:51:14.800870Z"
    }
   },
   "outputs": [],
   "execution_count": 4
  },
  {
   "cell_type": "markdown",
   "source": "# Classify the email with GPT-4o (LLM-Prompter)",
   "metadata": {
    "id": "gRQ7WP6rCwNZ"
   }
  },
  {
   "metadata": {},
   "cell_type": "markdown",
   "source": "Let's import the LLM-Prompter module, which communicates with the OpenAI endpoint. "
  },
  {
   "metadata": {
    "ExecuteTime": {
     "end_time": "2024-09-11T13:12:43.873191Z",
     "start_time": "2024-09-11T13:12:43.847190Z"
    }
   },
   "cell_type": "code",
   "source": [
    "import llm_prompter\n",
    "\n",
    "MODEL = \"gpt-4o\"\n",
    "llm_prompter.initialize_openAI()"
   ],
   "outputs": [],
   "execution_count": 7
  },
  {
   "cell_type": "markdown",
   "source": [
    "Once we have our preprocessed email and URL information, we call GPT-4o for the classification.\n",
    "\n",
    "We already did manual prompt engineering and came up with the following prompt:\n",
    "\n",
    "\n",
    "```\n",
    "You are a cybersecurity and human-computer interaction expert that has the goal to detect\n",
    "if an email is legitimate or phishing and help the user understand why a specific email is dangerous (or genuine), in order\n",
    "to make more informed decisions.\n",
    "The user will submit the email (headers + subject + body) optionally accompanied by information of the URLs in the email as:\n",
    "    - server location;\n",
    "    - VirusTotal scans reporting the number of scanners that detected the URL as harmless.\n",
    "\n",
    "Your goal is to output a JSON object containing:\n",
    "- The classification result (label).\n",
    "- The probability in percentage of the email being phishing (0%=email is surely legitimate, 100%=email is surely phishing) (phishing_probability).\n",
    "- A list of persuasion principles that were applied by the alliged attacker (if any); each persuasion principle should be an object containing:\n",
    "    the persuasion principle name (authority, scarcity, etc.),\n",
    "    the part of the email that makes you say that persuasion principle is being applied;\n",
    "    a brief rationale for each principle.\n",
    "- A list of 3 to 5 features that could indicate the danger (or legitimacy) of the email; the explanations must be understandable by users with no cybersecurity or computers expertise.\n",
    "\n",
    "\n",
    "Desired format:\n",
    "label: <phishing/legit>\n",
    "phishing_probability: <0-100%>\n",
    "persuasion_principles: [array of persuation principles, each having: {{name, specific sentences, rationale}} ]\n",
    "explanation: [array of 3-5 features explained]\n",
    "\n",
    "```\n",
    "\n",
    "Let's modify it a bit and set the code for the API call using Chat Completions ([source](https://platform.openai.com/docs/guides/gpt/chat-completions-api)).\n",
    "\n",
    "## Generating a warning message with explanation\n",
    "\n",
    "Now we have a classification for an email that also carries a lot of\n",
    "information regarding the rationale for the classification and the persuasion principles that might have been used.\n",
    "\n",
    "Nonetheless, we want to have an explanation message that would be easy to understand also by lay users. Therefore, we create another prompt to further refine this longer explanation in an effective warning message.\n",
    "\n",
    "We created this prompt:\n",
    "\n",
    "\n",
    "\n",
    "```\n",
    "Now take the most relevant feature among the ones in your explanations and construct a brief explanation message (max 50 words) directed to naive users (with no knowledge of cybersecurity) that will follow this structure:`\n",
    "    1. description of the most relevant phishing feature\n",
    "    2. explanation of the hazard\n",
    "    3. consequences of a successful phishing attack\n",
    "For example, a message that explains that a URL in the email (PHISHING_URL) is imitating another legitimate one (SAFE_URL), would be:\n",
    "\"The target URL [PHISHING_URL] is an imitation of the original one, [SAFE_URL]. This site might be intended to take you to a different place. You might be disclosing private information.”.\n",
    "Another example of explanation about the domain of a website being suspiciously young would be:\n",
    "\"This website is very young (created [N] days ago). Fraudulent websites have a similar age. There is a potential risk of being cheated if you proceed.\"\n",
    "Another example of explaining that the email is suspicious because a domain linked in the email is hosted in a country with bad reputation would be:\n",
    "\"The host of the target website is in [COUNTRY], which is where most attacks originate. Sharing your private information here is risky.\"\n",
    "\n",
    "Desired format:\n",
    "[description of the feature]. [hazard explanation]. [consequences of a successful attack].\n",
    "```\n"
   ],
   "metadata": {
    "id": "KDu6JIRHtZeg"
   }
  },
  {
   "metadata": {},
   "cell_type": "markdown",
   "source": "Let's generate an email classification + explanation by using GPT-4o. By changing the parameter _model_ of the function, we can use another GPT model, e.g., GPT-3.5 turbo (see [OpenAI docs](url[https://platform.openai.com/docs/models]))."
  },
  {
   "cell_type": "code",
   "source": [
    "# Call GPT-4o for email phishing classification (automatic feature detection)\n",
    "classification_response, warning_msg = llm_prompter.classify_email(mail, url_info, model=MODEL)\n",
    "\n",
    "print (classification_response)\n",
    "print (warning_msg)"
   ],
   "metadata": {
    "id": "LGr0jWFGEl4T"
   },
   "execution_count": null,
   "outputs": []
  },
  {
   "cell_type": "markdown",
   "source": [
    "## Generate explanations for specific email by priming on the feature to explain"
   ],
   "metadata": {
    "id": "ddI7FoJC3ICV"
   }
  },
  {
   "cell_type": "code",
   "source": [
    "# Young domain\n",
    "# Open and preprocess the email\n",
    "email_filename = \"emails/phishing_young_domain.eml\"\n",
    "with open(email_filename, \"rb\") as email_byes:\n",
    "  mail = email_byes.read()\n",
    "  mail = preprocessor.preprocess_email(mail)\n",
    "\n",
    "# Call GPT for email phishing classification (priming the model about the feature to explain)\n",
    "feature_to_explain = {\n",
    "    \"name\" : 'Young domain',\n",
    "    \"description\" : 'it contains an URL that leads to a domain that is very new'\n",
    "}\n",
    "classification_response, warning_msg = llm_prompter.classify_email(mail, feature_to_explain=feature_to_explain, url_info=None, model=MODEL)\n",
    "\n",
    "print (classification_response)\n",
    "print (warning_msg)"
   ],
   "metadata": {
    "colab": {
     "base_uri": "https://localhost:8080/"
    },
    "id": "_4tXyN9lu3iM",
    "outputId": "d8da12a6-088f-4eb8-9d47-fdfec050544f",
    "ExecuteTime": {
     "end_time": "2024-09-10T09:09:49.039398Z",
     "start_time": "2024-09-10T09:09:48.944882Z"
    }
   },
   "outputs": [
    {
     "ename": "FileNotFoundError",
     "evalue": "[Errno 2] No such file or directory: 'emails/phishing_young_domain.eml'",
     "output_type": "error",
     "traceback": [
      "\u001B[1;31m---------------------------------------------------------------------------\u001B[0m",
      "\u001B[1;31mFileNotFoundError\u001B[0m                         Traceback (most recent call last)",
      "Cell \u001B[1;32mIn[9], line 4\u001B[0m\n\u001B[0;32m      1\u001B[0m \u001B[38;5;66;03m# Young domain\u001B[39;00m\n\u001B[0;32m      2\u001B[0m \u001B[38;5;66;03m# Open and preprocess the email\u001B[39;00m\n\u001B[0;32m      3\u001B[0m email_filename \u001B[38;5;241m=\u001B[39m \u001B[38;5;124m\"\u001B[39m\u001B[38;5;124memails/phishing_young_domain.eml\u001B[39m\u001B[38;5;124m\"\u001B[39m\n\u001B[1;32m----> 4\u001B[0m \u001B[38;5;28;01mwith\u001B[39;00m \u001B[38;5;28;43mopen\u001B[39;49m\u001B[43m(\u001B[49m\u001B[43memail_filename\u001B[49m\u001B[43m,\u001B[49m\u001B[43m \u001B[49m\u001B[38;5;124;43m\"\u001B[39;49m\u001B[38;5;124;43mrb\u001B[39;49m\u001B[38;5;124;43m\"\u001B[39;49m\u001B[43m)\u001B[49m \u001B[38;5;28;01mas\u001B[39;00m email_byes:\n\u001B[0;32m      5\u001B[0m   mail \u001B[38;5;241m=\u001B[39m email_byes\u001B[38;5;241m.\u001B[39mread()\n\u001B[0;32m      6\u001B[0m   mail \u001B[38;5;241m=\u001B[39m preprocessor\u001B[38;5;241m.\u001B[39mpreprocess_email(mail)\n",
      "File \u001B[1;32m~\\PycharmProjects\\AntiPhish-LLM\\venv\\lib\\site-packages\\IPython\\core\\interactiveshell.py:310\u001B[0m, in \u001B[0;36m_modified_open\u001B[1;34m(file, *args, **kwargs)\u001B[0m\n\u001B[0;32m    303\u001B[0m \u001B[38;5;28;01mif\u001B[39;00m file \u001B[38;5;129;01min\u001B[39;00m {\u001B[38;5;241m0\u001B[39m, \u001B[38;5;241m1\u001B[39m, \u001B[38;5;241m2\u001B[39m}:\n\u001B[0;32m    304\u001B[0m     \u001B[38;5;28;01mraise\u001B[39;00m \u001B[38;5;167;01mValueError\u001B[39;00m(\n\u001B[0;32m    305\u001B[0m         \u001B[38;5;124mf\u001B[39m\u001B[38;5;124m\"\u001B[39m\u001B[38;5;124mIPython won\u001B[39m\u001B[38;5;124m'\u001B[39m\u001B[38;5;124mt let you open fd=\u001B[39m\u001B[38;5;132;01m{\u001B[39;00mfile\u001B[38;5;132;01m}\u001B[39;00m\u001B[38;5;124m by default \u001B[39m\u001B[38;5;124m\"\u001B[39m\n\u001B[0;32m    306\u001B[0m         \u001B[38;5;124m\"\u001B[39m\u001B[38;5;124mas it is likely to crash IPython. If you know what you are doing, \u001B[39m\u001B[38;5;124m\"\u001B[39m\n\u001B[0;32m    307\u001B[0m         \u001B[38;5;124m\"\u001B[39m\u001B[38;5;124myou can use builtins\u001B[39m\u001B[38;5;124m'\u001B[39m\u001B[38;5;124m open.\u001B[39m\u001B[38;5;124m\"\u001B[39m\n\u001B[0;32m    308\u001B[0m     )\n\u001B[1;32m--> 310\u001B[0m \u001B[38;5;28;01mreturn\u001B[39;00m io_open(file, \u001B[38;5;241m*\u001B[39margs, \u001B[38;5;241m*\u001B[39m\u001B[38;5;241m*\u001B[39mkwargs)\n",
      "\u001B[1;31mFileNotFoundError\u001B[0m: [Errno 2] No such file or directory: 'emails/phishing_young_domain.eml'"
     ]
    }
   ],
   "execution_count": 9
  },
  {
   "cell_type": "code",
   "source": [
    "# IP Address\n",
    "# Open and preprocess the email\n",
    "email_filename = \"emails/phishing_IP.eml\"\n",
    "with open(email_filename, \"rb\") as email_byes:\n",
    "  mail = email_byes.read()\n",
    "  mail = preprocessor.preprocess_email(mail)\n",
    "  \n",
    "# Call GPT for email phishing classification (priming the model about the feature to explain)\n",
    "feature_to_explain = {\n",
    "    \"name\" : \"URL is IP address\",\n",
    "    \"description\" : \"it contains an URL that is an IP address\"\n",
    "}\n",
    "classification_response, warning_msg = llm_prompter.classify_email(mail, feature_to_explain=feature_to_explain, url_info=None, model=MODEL)\n",
    "\n",
    "print (classification_response)\n",
    "print (warning_msg)"
   ],
   "metadata": {
    "id": "mqdE6XNmV_U4",
    "ExecuteTime": {
     "end_time": "2024-09-11T13:12:50.549985Z",
     "start_time": "2024-09-11T13:12:43.876192Z"
    }
   },
   "outputs": [
    {
     "name": "stdout",
     "output_type": "stream",
     "text": [
      "{\n",
      "  \"label\": \"phishing\",\n",
      "  \"phishing_probability\": 95,\n",
      "  \"persuasion_principles\": [\n",
      "    {\n",
      "      \"name\": \"Authority\",\n",
      "      \"specific_sentences\": \"Sincerely, Instagram Technical Staff\",\n",
      "      \"rationale\": \"The email attempts to leverage the authority of Instagram's technical staff to make the recipient trust the message.\"\n",
      "    },\n",
      "    {\n",
      "      \"name\": \"Urgency\",\n",
      "      \"specific_sentences\": \"If this wasn’t you, click the link below and reset your password to be safe.\",\n",
      "      \"rationale\": \"The email creates a sense of urgency by suggesting immediate action to secure the account, which can prompt hasty decisions.\"\n",
      "    }\n",
      "  ],\n",
      "  \"explanation\": [\n",
      "    {\n",
      "      \"feature\": \"Suspicious URL\",\n",
      "      \"explanation\": \"The email contains a URL that is an IP address (http://92.233.24.33/instagram/login.php). Legitimate companies typically use domain names rather than IP addresses.\"\n",
      "    },\n",
      "    {\n",
      "      \"feature\": \"Sender Email Address\",\n",
      "      \"explanation\": \"The sender's email address is 'noreply@lnstagram.com'. The domain 'lnstagram.com' is suspiciously similar to 'instagram.com', which is a common tactic used in phishing to deceive recipients.\"\n",
      "    },\n",
      "    {\n",
      "      \"feature\": \"Generic Greeting\",\n",
      "      \"explanation\": \"The email starts with 'Hey user,' instead of addressing the recipient by name. Legitimate companies usually personalize their emails.\"\n",
      "    },\n",
      "    {\n",
      "      \"feature\": \"Unusual Location\",\n",
      "      \"explanation\": \"The email mentions a login from 'Nashik, India' which might be unusual for the recipient. Phishing emails often use alarming information to prompt action.\"\n",
      "    },\n",
      "    {\n",
      "      \"feature\": \"Urgent Call to Action\",\n",
      "      \"explanation\": \"The email urges the recipient to 'click the link below and reset your password to be safe.' This creates a sense of urgency, which is a common phishing tactic.\"\n",
      "    }\n",
      "  ]\n",
      "}\n",
      "\"The URL in the email is an IP address. This is unusual for legitimate companies and can be a sign of a phishing site. If you click on it, you might unknowingly give away your personal information.\"\n"
     ]
    }
   ],
   "execution_count": 8
  },
  {
   "cell_type": "code",
   "source": [
    "# Link mismatch\n",
    "# Open and preprocess the email\n",
    "email_filename = \"emails/phishing_link_mismatch.eml\"\n",
    "with open(email_filename, \"rb\") as email_byes:\n",
    "  mail = email_byes.read()\n",
    "  mail = preprocessor.preprocess_email(mail)\n",
    "# Call GPT for email phishing classification (priming the model about the feature to explain)\n",
    "feature_to_explain = {\n",
    "    \"name\" : \"Link mismatch\",\n",
    "    \"description\" : \"it contains a displayed link that is different from the actual pointed URL\"\n",
    "}\n",
    "classification_response, warning_msg = llm_prompter.classify_email(mail, feature_to_explain=feature_to_explain, url_info=None, model=MODEL)\n",
    "\n",
    "print (classification_response)\n",
    "print (warning_msg)"
   ],
   "metadata": {
    "id": "xdTIfIh4stD_",
    "ExecuteTime": {
     "end_time": "2024-09-12T16:04:37.316391Z",
     "start_time": "2024-09-12T15:59:37.322786Z"
    }
   },
   "outputs": [
    {
     "name": "stdout",
     "output_type": "stream",
     "text": [
      "{\n",
      "  \"label\": \"phishing\",\n",
      "  \"phishing_probability\": 85,\n",
      "  \"persuasion_principles\": [\n",
      "    {\n",
      "      \"name\": \"Authority\",\n",
      "      \"specific_sentences\": \"From: Facebook <security@facebookmail.com>\",\n",
      "      \"rationale\": \"The email claims to be from Facebook's security team, leveraging the authority of a well-known and trusted organization to make the recipient more likely to take the email seriously.\"\n",
      "    },\n",
      "    {\n",
      "      \"name\": \"Urgency\",\n",
      "      \"specific_sentences\": \"If it wasn’t you, protect your account\",\n",
      "      \"rationale\": \"The email creates a sense of urgency by suggesting that immediate action is needed to protect the recipient's account, which can prompt hasty decisions.\"\n",
      "    }\n",
      "  ],\n",
      "  \"explanation\": [\n",
      "    {\n",
      "      \"feature\": \"Displayed link different from actual URL\",\n",
      "      \"explanation\": \"The link text says 'protect your account' but the actual URL points to a suspicious address. This is a common tactic used in phishing emails to trick users into clicking on malicious links.\"\n",
      "    },\n",
      "    {\n",
      "      \"feature\": \"Generic greeting\",\n",
      "      \"explanation\": \"The email starts with 'Hello Alice,' which is slightly personalized but still generic. Legitimate companies often use more personalized greetings.\"\n",
      "    },\n",
      "    {\n",
      "      \"feature\": \"Suspicious URL\",\n",
      "      \"explanation\": \"The URL provided for account protection does not match the official Facebook domain. Always check the URL carefully before clicking.\"\n",
      "    },\n",
      "    {\n",
      "      \"feature\": \"Unexpected email\",\n",
      "      \"explanation\": \"Receiving an email about a password change that you did not initiate is a red flag. Always verify such claims through official channels.\"\n",
      "    },\n",
      "    {\n",
      "      \"feature\": \"Email formatting and content\",\n",
      "      \"explanation\": \"While the email mimics Facebook's style, there are subtle inconsistencies in formatting and language that can indicate it is not genuine.\"\n",
      "    }\n",
      "  ]\n",
      "}\n",
      "\"Link mismatch. The displayed link text is different from the actual URL it points to. Clicking on it could lead you to a malicious site, risking your private information.\"\n"
     ]
    }
   ],
   "execution_count": 34
  },
  {
   "metadata": {
    "ExecuteTime": {
     "end_time": "2024-09-11T14:02:11.659787Z",
     "start_time": "2024-09-11T14:02:11.659286Z"
    }
   },
   "cell_type": "code",
   "source": [
    "# TLD mispositioned\n",
    "# Open and preprocess the email\n",
    "email_filename = \"emails/phishing_TLD_mispositioned.eml\"\n",
    "with open(email_filename, \"rb\") as email_byes:\n",
    "  mail = email_byes.read()\n",
    "  mail = preprocessor.preprocess_email(mail)\n",
    "# Call GPT for email phishing classification (priming the model about the feature to explain)\n",
    "feature_to_explain = {\n",
    "    \"name\" : \"Top-Level Domain mispositioned\",\n",
    "    \"description\" : \"it contains an URL with a top-level domain (.com) found as a subdomain\"\n",
    "}\n",
    "classification_response, warning_msg = llm_prompter.classify_email(mail, feature_to_explain=feature_to_explain, url_info=None, model=MODEL)\n",
    "\n",
    "print (classification_response)\n",
    "print (warning_msg)"
   ],
   "outputs": [],
   "execution_count": null
  },
  {
   "metadata": {
    "ExecuteTime": {
     "end_time": "2024-09-11T13:17:20.948441Z",
     "start_time": "2024-09-11T13:17:20.942943Z"
    }
   },
   "cell_type": "code",
   "source": "",
   "outputs": [
    {
     "name": "stdout",
     "output_type": "stream",
     "text": [
      "\n"
     ]
    }
   ],
   "execution_count": 12
  }
 ]
}
